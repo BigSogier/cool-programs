{
  "nbformat": 4,
  "nbformat_minor": 0,
  "metadata": {
    "colab": {
      "name": "paul's very cool programm.ipynb",
      "provenance": [],
      "authorship_tag": "ABX9TyPkisXi7HsnvHXgHL/+RQFj",
      "include_colab_link": true
    },
    "kernelspec": {
      "name": "python3",
      "display_name": "Python 3"
    },
    "language_info": {
      "name": "python"
    }
  },
  "cells": [
    {
      "cell_type": "markdown",
      "metadata": {
        "id": "view-in-github",
        "colab_type": "text"
      },
      "source": [
        "<a href=\"https://colab.research.google.com/github/BigSogier/cool-programs/blob/main/paul's_very_cool_programm.ipynb\" target=\"_parent\"><img src=\"https://colab.research.google.com/assets/colab-badge.svg\" alt=\"Open In Colab\"/></a>"
      ]
    },
    {
      "cell_type": "code",
      "execution_count": null,
      "metadata": {
        "id": "DRCDygUTDTNf"
      },
      "outputs": [],
      "source": [
        "#Description: programm for crypto prices (yes antoni its easy to read dumbass)"
      ]
    },
    {
      "cell_type": "code",
      "source": [
        "#Libraries\n",
        "from bs4 import BeautifulSoup\n",
        "import requests\n",
        "import time"
      ],
      "metadata": {
        "id": "saL-k5cbEwlY"
      },
      "execution_count": 1,
      "outputs": []
    },
    {
      "cell_type": "code",
      "source": [
        "#Getting the Url\n",
        "#changing the url allows us to use different coins\n",
        "\n",
        "url= 'https://www.google.com/search?q=bitcoin+price&rlz=1C1KNTJ_enGR973GR973&oq=bitcoin+price&aqs=chrome..69i57j0i131i433i512j0i512l2j0i433i512j0i512l5.2712j1j7&sourceid=chrome&ie=UTF-8'\n",
        "\n",
        "#Sends request to the website\n",
        "HTML = requests.get(url)\n",
        "\n",
        "#Analyzing html\n",
        "soup = BeautifulSoup(HTML.text, 'html.parser')\n",
        "\n",
        "#This finds the price of the crypto\n",
        "print(soup.prettify())"
      ],
      "metadata": {
        "id": "D-XI0jDTGF2v"
      },
      "execution_count": null,
      "outputs": []
    },
    {
      "cell_type": "code",
      "source": [
        "#<div class=\"BNeawe iBp4i AP7Wnd\">\n",
        "#define function to get price of crypto\n",
        "def get_crypto_price(coin):\n",
        "  #Getting the Url\n",
        "\n",
        "  url = 'https://www.google.com/search?q='+coin+'+price&rlz=1C1KNTJ_enGR973GR973&oq=bitcoin+price&aqs=chrome..69i57j0i131i433i512j0i512l2j0i433i512j0i512l5.2712j1j7&sourceid=chrome&ie=UTF-8'\n",
        "\n",
        "  #Sends request to the website\n",
        "  HTML = requests.get(url)\n",
        "\n",
        "  #Analyzing html\n",
        "  soup = BeautifulSoup(HTML.text, 'html.parser')\n",
        "\n",
        "  #Find the current price\n",
        "  text = soup.find('div',attrs={'class':'BNeawe iBp4i AP7Wnd'}).find('div',attrs={'class':'BNeawe iBp4i AP7Wnd'}).text\n",
        "\n",
        "  #Return the text\n",
        "  return text"
      ],
      "metadata": {
        "id": "v8eOTpJEg16H"
      },
      "execution_count": 11,
      "outputs": []
    },
    {
      "cell_type": "code",
      "source": [
        "#Get price of crypto\n",
        "price = get_crypto_price('bitcoin')\n",
        "\n",
        "#Print price\n",
        "print(price)"
      ],
      "metadata": {
        "id": "Row3vC_BjZ05"
      },
      "execution_count": null,
      "outputs": []
    },
    {
      "cell_type": "code",
      "source": [
        "#real time change of the crypto prices\n",
        "def main():\n",
        "  last_price = -1\n",
        "  #creating a loop\n",
        "  while True:\n",
        "    #choosing a currency \n",
        "    crypto = 'bitcoin'\n",
        "    #getting the price\n",
        "    price = get_crypto_price(crypto)\n",
        "    #check if the price changed\n",
        "    if price != last_price:\n",
        "      print(crypto+' price: ',price)\n",
        "      last_price = price\n",
        "    time.sleep(3)\n"
      ],
      "metadata": {
        "id": "RPP5936MlOB4"
      },
      "execution_count": 29,
      "outputs": []
    },
    {
      "cell_type": "code",
      "source": [
        "#Run main function\n",
        "main()"
      ],
      "metadata": {
        "colab": {
          "base_uri": "https://localhost:8080/",
          "height": 287
        },
        "id": "KuNk7AcAoet6",
        "outputId": "d1ef1014-5e1a-4331-e2f2-c8a9a1c6bf7e"
      },
      "execution_count": 30,
      "outputs": [
        {
          "output_type": "stream",
          "name": "stdout",
          "text": [
            "bitcoin price:  37,774.60 United States Dollar\n"
          ]
        },
        {
          "output_type": "error",
          "ename": "KeyboardInterrupt",
          "evalue": "ignored",
          "traceback": [
            "\u001b[0;31m---------------------------------------------------------------------------\u001b[0m",
            "\u001b[0;31mKeyboardInterrupt\u001b[0m                         Traceback (most recent call last)",
            "\u001b[0;32m<ipython-input-30-7e9266807e98>\u001b[0m in \u001b[0;36m<module>\u001b[0;34m()\u001b[0m\n\u001b[1;32m      1\u001b[0m \u001b[0;31m#Run main function\u001b[0m\u001b[0;34m\u001b[0m\u001b[0;34m\u001b[0m\u001b[0;34m\u001b[0m\u001b[0m\n\u001b[0;32m----> 2\u001b[0;31m \u001b[0mmain\u001b[0m\u001b[0;34m(\u001b[0m\u001b[0;34m)\u001b[0m\u001b[0;34m\u001b[0m\u001b[0;34m\u001b[0m\u001b[0m\n\u001b[0m",
            "\u001b[0;32m<ipython-input-29-7b29fcce8ada>\u001b[0m in \u001b[0;36mmain\u001b[0;34m()\u001b[0m\n\u001b[1;32m     12\u001b[0m       \u001b[0mprint\u001b[0m\u001b[0;34m(\u001b[0m\u001b[0mcrypto\u001b[0m\u001b[0;34m+\u001b[0m\u001b[0;34m' price: '\u001b[0m\u001b[0;34m,\u001b[0m\u001b[0mprice\u001b[0m\u001b[0;34m)\u001b[0m\u001b[0;34m\u001b[0m\u001b[0;34m\u001b[0m\u001b[0m\n\u001b[1;32m     13\u001b[0m       \u001b[0mlast_price\u001b[0m \u001b[0;34m=\u001b[0m \u001b[0mprice\u001b[0m\u001b[0;34m\u001b[0m\u001b[0;34m\u001b[0m\u001b[0m\n\u001b[0;32m---> 14\u001b[0;31m     \u001b[0mtime\u001b[0m\u001b[0;34m.\u001b[0m\u001b[0msleep\u001b[0m\u001b[0;34m(\u001b[0m\u001b[0;36m3\u001b[0m\u001b[0;34m)\u001b[0m\u001b[0;34m\u001b[0m\u001b[0;34m\u001b[0m\u001b[0m\n\u001b[0m",
            "\u001b[0;31mKeyboardInterrupt\u001b[0m: "
          ]
        }
      ]
    }
  ]
}